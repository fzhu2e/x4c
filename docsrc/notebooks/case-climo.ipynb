{
 "cells": [
  {
   "cell_type": "code",
   "execution_count": 1,
   "metadata": {},
   "outputs": [
    {
     "name": "stdout",
     "output_type": "stream",
     "text": [
      "2024.5.11\n"
     ]
    }
   ],
   "source": [
    "%load_ext autoreload\n",
    "%autoreload 2\n",
    "\n",
    "import os\n",
    "os.chdir('/glade/u/home/fengzhu/Github/x4c/docsrc/notebooks')\n",
    "import numpy as np\n",
    "import x4c\n",
    "print(x4c.__version__)"
   ]
  },
  {
   "cell_type": "markdown",
   "metadata": {},
   "source": [
    "## SE2"
   ]
  },
  {
   "cell_type": "code",
   "execution_count": 3,
   "metadata": {},
   "outputs": [
    {
     "name": "stdout",
     "output_type": "stream",
     "text": [
      "\u001b[36m\u001b[1m>>> case.root_dir: /glade/campaign/univ/ubrn0018/fengzhu/CESM_output/timeseries/b.e13.B1850C5.ne16_g16.icesm131_d18O_fixer.Miocene.3xCO2.005\u001b[0m\n",
      "\u001b[36m\u001b[1m>>> case.path_pattern: comp/proc/tseries/month_1/casename.mdl.h_str.vn.timespan.nc\u001b[0m\n",
      "\u001b[36m\u001b[1m>>> case.grid_dict: {'atm': 'ne16', 'ocn': 'g16', 'lnd': 'ne16', 'rof': 'ne16', 'ice': 'g16'}\u001b[0m\n",
      "\u001b[32m\u001b[1m>>> case.vars_info created\u001b[0m\n"
     ]
    }
   ],
   "source": [
    "dirpath = '/glade/campaign/univ/ubrn0018/fengzhu/CESM_output/timeseries/b.e13.B1850C5.ne16_g16.icesm131_d18O_fixer.Miocene.3xCO2.005'\n",
    "case = x4c.Timeseries(dirpath)"
   ]
  },
  {
   "cell_type": "code",
   "execution_count": 4,
   "metadata": {},
   "outputs": [
    {
     "name": "stdout",
     "output_type": "stream",
     "text": [
      "\u001b[36m\u001b[1m>>> Generating climo for 184 variables:\u001b[0m\n",
      "['ADRAIN', 'ADSNOW', 'AEROD_v', 'ANRAIN', 'ANSNOW', 'AODDUST1', 'AODDUST3', 'AODVIS', 'AQRAIN', 'AQSNOW']\n",
      "['AREI', 'AREL', 'AWNC', 'AWNI', 'BURDEN1', 'BURDEN2', 'BURDEN3', 'BURDENBC', 'BURDENDUST', 'BURDENPOM']\n",
      "['BURDENSEASALT', 'BURDENSO4', 'BURDENSOA', 'CCN3', 'CDNUMC', 'CLDHGH', 'CLDICE', 'CLDLIQ', 'CLDLOW', 'CLDMED']\n",
      "['CLDTOT', 'CLOUD', 'DCQ', 'DMS_SRF', 'DTCOND', 'DTV', 'DTWR_H2O2', 'DTWR_H2SO4', 'DTWR_SO2', 'FICE']\n",
      "['FLDS', 'FLNS', 'FLNSC', 'FLNT', 'FLNTC', 'FLUT', 'FLUTC', 'FREQI', 'FREQL', 'FREQR']\n",
      "['FREQS', 'FSDS', 'FSDSC', 'FSNS', 'FSNSC', 'FSNT', 'FSNTC', 'FSNTOA', 'FSNTOAC', 'FSUTOA']\n",
      "['H216OI', 'H216OL', 'H216OR', 'H216OS', 'H216OV', 'H216Or', 'H216Os', 'H218OI', 'H218OL', 'H218OR']\n",
      "['H218OS', 'H218OV', 'H218Or', 'H218Os', 'H2O2_SRF', 'H2OI', 'H2OL', 'H2OR', 'H2OS', 'H2OV']\n",
      "['H2Or', 'H2Os', 'H2SO4_SRF', 'HDOI', 'HDOL', 'HDOR', 'HDOS', 'HDOV', 'HDOr', 'HDOs']\n",
      "['ICEFRAC', 'ICIMR', 'ICWMR', 'IVT', 'IWC', 'LANDFRAC', 'LHFLX', 'LWCF', 'NUMICE', 'NUMLIQ']\n",
      "['OCNFRAC', 'OMEGA', 'OMEGAT', 'PBLH', 'PHIS', 'PRECC', 'PRECL', 'PRECRC_H216Or', 'PRECRC_H218Or', 'PRECRC_H2Or']\n",
      "['PRECRC_HDOr', 'PRECRL_H216OR', 'PRECRL_H218OR', 'PRECRL_H2OR', 'PRECRL_HDOR', 'PRECSC', 'PRECSC_H216Os', 'PRECSC_H218Os', 'PRECSC_H2Os', 'PRECSC_HDOs']\n",
      "['PRECSL', 'PRECSL_H216OS', 'PRECSL_H218OS', 'PRECSL_H2OS', 'PRECSL_HDOS', 'PS', 'PSL', 'Q', 'QFLX', 'QRAINC']\n",
      "['QRAINS', 'QREFHT', 'QRL', 'QRS', 'QSNOWC', 'QSNOWS', 'RELHUM', 'SHFLX', 'SNOWHICE', 'SNOWHLND']\n",
      "['SO2_SRF', 'SOAG_SRF', 'SOLIN', 'SWCF', 'T', 'TAUGWX', 'TAUGWY', 'TAUX', 'TAUY', 'TGCLDCWP']\n",
      "['TGCLDIWP', 'TGCLDLWP', 'TMQ', 'TREFHT', 'TS', 'TSMN', 'TSMX', 'U', 'U10', 'UU']\n",
      "['V', 'VD01', 'VQ', 'VT', 'VU', 'VV', 'WGUSTD', 'WSUB', 'Z3', 'bc_a1_SRF']\n",
      "['dst_a1_SRF', 'dst_a3_SRF', 'ncl_a1_SRF', 'ncl_a2_SRF', 'ncl_a3_SRF', 'num_a1_SRF', 'num_a2_SRF', 'num_a3_SRF', 'pom_a1_SRF', 'so4_a1_SRF']\n",
      "['so4_a2_SRF', 'so4_a3_SRF', 'soa_a1_SRF', 'soa_a2_SRF']\n",
      "\u001b[90m\u001b[1m>>> nproc: 16\u001b[0m\n"
     ]
    },
    {
     "name": "stderr",
     "output_type": "stream",
     "text": [
      "Generating climo files: 100%|██████████| 184/184 [01:09<00:00,  2.65it/s]\n"
     ]
    },
    {
     "name": "stdout",
     "output_type": "stream",
     "text": [
      "\u001b[32m\u001b[1m>>> 184 climo files created in: /glade/derecho/scratch/fengzhu/ADF/b.e13.B1850C5.ne16_g16.icesm131_d18O_fixer.Miocene.3xCO2.005/climo\u001b[0m\n",
      "CPU times: user 2.99 s, sys: 669 ms, total: 3.66 s\n",
      "Wall time: 1min 32s\n"
     ]
    }
   ],
   "source": [
    "%%time\n",
    "casename = 'b.e13.B1850C5.ne16_g16.icesm131_d18O_fixer.Miocene.3xCO2.005'\n",
    "case.gen_climo(\n",
    "    output_dirpath=f'/glade/derecho/scratch/fengzhu/ADF/{casename}/climo',\n",
    "    casename=casename,\n",
    "    timespan=(6901, 7000),\n",
    "    # vns=['TS', 'U', 'V'],\n",
    "    comp='atm',\n",
    "    nproc=16,\n",
    "    overwrite=True,\n",
    "    regrid=True,\n",
    ")"
   ]
  },
  {
   "cell_type": "code",
   "execution_count": null,
   "metadata": {},
   "outputs": [],
   "source": [
    "%%time\n",
    "casename = 'b.e13.B1850C5.ne16_g16.icesm131_d18O_fixer.Miocene.3xCO2.005'\n",
    "case.gen_climo(\n",
    "    output_dirpath=f'/glade/derecho/scratch/fengzhu/ADF/{casename}/climo',\n",
    "    casename=casename,\n",
    "    timespan=(6901, 7000),\n",
    "    vns=['TS', 'U', 'V'],\n",
    "    comp='atm',\n",
    "    nproc=3,\n",
    "    overwrite=True,\n",
    ")"
   ]
  },
  {
   "cell_type": "code",
   "execution_count": null,
   "metadata": {},
   "outputs": [],
   "source": [
    "%%time\n",
    "casename = 'b.e13.B1850C5.ne16_g16.icesm131_d18O_fixer.Miocene.3xCO2.005'\n",
    "case.gen_climo(\n",
    "    output_dirpath=f'/glade/derecho/scratch/fengzhu/ADF/{casename}/climo',\n",
    "    casename=casename,\n",
    "    timespan=(6501, 7000),\n",
    "    vns=['TS', 'U', 'V'],\n",
    "    comp='atm',\n",
    "    nproc=1,\n",
    "    overwrite=True,\n",
    ")"
   ]
  },
  {
   "cell_type": "code",
   "execution_count": null,
   "metadata": {},
   "outputs": [],
   "source": [
    "%%time\n",
    "casename = 'b.e13.B1850C5.ne16_g16.icesm131_d18O_fixer.Miocene.3xCO2.005'\n",
    "case.gen_climo(\n",
    "    output_dirpath=f'/glade/derecho/scratch/fengzhu/ADF/{casename}/climo',\n",
    "    casename=casename,\n",
    "    timespan=(6501, 7000),\n",
    "    vns=['TS', 'U', 'V'],\n",
    "    comp='atm',\n",
    "    nproc=3,\n",
    "    overwrite=True,\n",
    ")"
   ]
  },
  {
   "cell_type": "code",
   "execution_count": null,
   "metadata": {},
   "outputs": [],
   "source": [
    "%%time\n",
    "casename = 'b.e13.B1850C5.ne16_g16.icesm131_d18O_fixer.Miocene.3xCO2.005'\n",
    "case.gen_climo(\n",
    "    output_dirpath=f'/glade/derecho/scratch/fengzhu/ADF/{casename}/climo',\n",
    "    casename=casename,\n",
    "    timespan=(6901, 7000),\n",
    "    comp='atm',\n",
    "    nproc=16,\n",
    ")"
   ]
  },
  {
   "cell_type": "markdown",
   "metadata": {},
   "source": [
    "## SE1"
   ]
  },
  {
   "cell_type": "code",
   "execution_count": 3,
   "metadata": {},
   "outputs": [
    {
     "name": "stdout",
     "output_type": "stream",
     "text": [
      "\u001b[36m\u001b[1m>>> case.root_dir: /glade/campaign/cgd/ppc/jiangzhu/iCESM1.3_hires/b.e13.B1850C5.ne30_g16.icesm13_ihesp.PI.002\u001b[0m\n",
      "\u001b[36m\u001b[1m>>> case.path_pattern: comp/proc/tseries/month_1/casename.mdl.h_str.vn.timespan.nc\u001b[0m\n",
      "\u001b[36m\u001b[1m>>> case.grid_dict: {'atm': 'ne30', 'ocn': 'g16', 'lnd': 'ne30', 'rof': 'ne30', 'ice': 'g16'}\u001b[0m\n",
      "\u001b[32m\u001b[1m>>> case.vars_info created\u001b[0m\n"
     ]
    }
   ],
   "source": [
    "dirpath = '/glade/campaign/cgd/ppc/jiangzhu/iCESM1.3_hires/b.e13.B1850C5.ne30_g16.icesm13_ihesp.PI.002'\n",
    "case = x4c.Timeseries(dirpath, grid_dict={'atm': 'ne30'})"
   ]
  },
  {
   "cell_type": "code",
   "execution_count": null,
   "metadata": {},
   "outputs": [],
   "source": [
    "%%time\n",
    "casename = 'b.e13.B1850C5.ne30_g16.icesm13_ihesp.PI.002'\n",
    "case.gen_climo(\n",
    "    output_dirpath=f'/glade/derecho/scratch/fengzhu/ADF/{casename}/climo',\n",
    "    casename=casename,\n",
    "    timespan=(1, 500),\n",
    "    vns=['TS', 'U', 'V'],\n",
    "    comp='atm',\n",
    "    nproc=1,\n",
    "    overwrite=True,\n",
    ")"
   ]
  },
  {
   "cell_type": "code",
   "execution_count": null,
   "metadata": {},
   "outputs": [],
   "source": [
    "%%time\n",
    "casename = 'b.e13.B1850C5.ne30_g16.icesm13_ihesp.PI.002'\n",
    "case.gen_climo(\n",
    "    output_dirpath=f'/glade/derecho/scratch/fengzhu/ADF/{casename}/climo',\n",
    "    casename=casename,\n",
    "    timespan=(1, 500),\n",
    "    vns=['TS', 'U', 'V'],\n",
    "    comp='atm',\n",
    "    nproc=3,\n",
    "    overwrite=True,\n",
    ")"
   ]
  },
  {
   "cell_type": "code",
   "execution_count": null,
   "metadata": {},
   "outputs": [],
   "source": [
    "%%time\n",
    "casename = 'b.e13.B1850C5.ne30_g16.icesm13_ihesp.PI.002'\n",
    "case.gen_climo(\n",
    "    output_dirpath=f'/glade/derecho/scratch/fengzhu/ADF/{casename}/climo',\n",
    "    casename=casename,\n",
    "    timespan=(1, 500),\n",
    "    comp='atm',\n",
    "    nproc=16,\n",
    "    overwrite=True,\n",
    ")"
   ]
  },
  {
   "cell_type": "markdown",
   "metadata": {},
   "source": [
    "## FV2"
   ]
  },
  {
   "cell_type": "code",
   "execution_count": null,
   "metadata": {},
   "outputs": [],
   "source": [
    "dirpath = '/glade/campaign/cgd/ppc/jiangzhu/iCESM1.3/b.e13.Bi1850C5.f19_g16.05'\n",
    "case = x4c.Timeseries(dirpath, grid_dict={'atm': 'f19'})"
   ]
  },
  {
   "cell_type": "code",
   "execution_count": null,
   "metadata": {},
   "outputs": [],
   "source": [
    "%%time\n",
    "casename = 'b.e13.Bi1850C5.f19_g16.05'\n",
    "case.gen_climo(\n",
    "    output_dirpath=f'/glade/campaign/univ/ubrn0018/fengzhu/CESM_output/climo/b.e13.Bi1850C5.f19_g16.05',\n",
    "    casename=casename,\n",
    "    timespan=(1, 500),\n",
    "    slicing=True,\n",
    "    comp='atm',\n",
    "    nproc=16,\n",
    ")"
   ]
  },
  {
   "cell_type": "code",
   "execution_count": null,
   "metadata": {},
   "outputs": [],
   "source": []
  }
 ],
 "metadata": {
  "kernelspec": {
   "display_name": "Python [conda env:xpp-env]",
   "language": "python",
   "name": "conda-env-xpp-env-py"
  }
 },
 "nbformat": 4,
 "nbformat_minor": 2
}
