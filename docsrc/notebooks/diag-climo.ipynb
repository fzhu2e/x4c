{
 "cells": [
  {
   "cell_type": "markdown",
   "metadata": {},
   "source": [
    "# Climatology (climo) files generation"
   ]
  },
  {
   "cell_type": "code",
   "execution_count": 1,
   "metadata": {},
   "outputs": [
    {
     "name": "stdout",
     "output_type": "stream",
     "text": [
      "2024.6.6\n"
     ]
    }
   ],
   "source": [
    "%load_ext autoreload\n",
    "%autoreload 2\n",
    "\n",
    "import os\n",
    "os.chdir('/glade/u/home/fengzhu/Github/x4c/docsrc/notebooks')\n",
    "import numpy as np\n",
    "import x4c\n",
    "print(x4c.__version__)"
   ]
  },
  {
   "cell_type": "markdown",
   "metadata": {},
   "source": [
    "## SE2"
   ]
  },
  {
   "cell_type": "code",
   "execution_count": 2,
   "metadata": {},
   "outputs": [
    {
     "name": "stdout",
     "output_type": "stream",
     "text": [
      "\u001b[36m\u001b[1m>>> case.root_dir: /glade/campaign/univ/ubrn0018/fengzhu/CESM_output/timeseries/b.e13.B1850C5.ne16_g16.icesm131_d18O_fixer.Miocene.3xCO2.005\u001b[0m\n",
      "\u001b[36m\u001b[1m>>> case.path_pattern: comp/proc/tseries/month_1/casename.mdl.h_str.vn.timespan.nc\u001b[0m\n",
      "\u001b[36m\u001b[1m>>> case.grid_dict: {'atm': 'ne16', 'ocn': 'g16', 'lnd': 'ne16', 'rof': 'ne16', 'ice': 'g16'}\u001b[0m\n",
      "\u001b[32m\u001b[1m>>> case.vars_info created\u001b[0m\n"
     ]
    }
   ],
   "source": [
    "dirpath = '/glade/campaign/univ/ubrn0018/fengzhu/CESM_output/timeseries/b.e13.B1850C5.ne16_g16.icesm131_d18O_fixer.Miocene.3xCO2.005'\n",
    "case = x4c.Timeseries(dirpath)"
   ]
  },
  {
   "cell_type": "code",
   "execution_count": 6,
   "metadata": {},
   "outputs": [
    {
     "name": "stdout",
     "output_type": "stream",
     "text": [
      "ULONG\n",
      "ULAT\n",
      "TLONG\n",
      "TLAT\n",
      "KMT\n",
      "KMU\n",
      "REGION_MASK\n",
      "UAREA\n",
      "TAREA\n",
      "HU\n",
      "HT\n",
      "DXU\n",
      "DYU\n",
      "DXT\n",
      "DYT\n",
      "HTN\n",
      "HTE\n",
      "HUS\n",
      "HUW\n",
      "ANGLE\n",
      "ANGLET\n"
     ]
    }
   ],
   "source": [
    "vn_list = ['ULONG', 'ULAT', 'TLONG', 'TLAT', 'KMT', 'KMU', 'REGION_MASK', 'UAREA', 'TAREA', 'HU',\n",
    "'HT', 'DXU', 'DYU', 'DXT', 'DYT', 'HTN', 'HTE', 'HUS', 'HUW', 'ANGLE',\n",
    "'ANGLET', 'UVEL', 'UVEL2', 'VVEL', 'VVEL2', 'TEMP', 'dTEMP_POS_2D', 'dTEMP_NEG_2D', 'SALT', 'RHO',\n",
    "'RHO_VINT', 'RESID_T', 'RESID_S', 'SU', 'SV', 'SSH', 'SSH2', 'SHF', 'SHF_QSW', 'SFWF',\n",
    "'SFWF_WRST', 'TAUX', 'TAUX2', 'TAUY', 'TAUY2', 'FW', 'TFW_T', 'TFW_S', 'EVAP_F', 'PREC_F',\n",
    "'SNOW_F', 'MELT_F', 'ROFF_F', 'IOFF_F', 'SALT_F', 'SENH_F', 'LWUP_F', 'LWDN_F', 'MELTH_F', 'IFRAC',\n",
    "'PREC_16O_F', 'PREC_18O_F', 'PREC_HDO_F', 'EVAP_16O_F', 'EVAP_18O_F', 'EVAP_HDO_F', 'MELT_16O_F', 'MELT_18O_F', 'MELT_HDO_F', 'ROFF_16O_F',\n",
    "'ROFF_18O_F', 'ROFF_HDO_F', 'IOFF_16O_F', 'IOFF_18O_F', 'IOFF_HDO_F', 'R18O', 'FvPER_R18O', 'FvICE_R18O', 'RHDO', 'FvPER_RHDO',\n",
    "'FvICE_RHDO', 'ND143', 'ND144', 'IAGE', 'QSW_HBL', 'KVMIX', 'KVMIX_M', 'TPOWER', 'VDC_T', 'VDC_S',\n",
    "'VVC', 'KAPPA_ISOP', 'KAPPA_THIC', 'HOR_DIFF', 'DIA_DEPTH', 'TLT', 'INT_DEPTH', 'UISOP', 'VISOP', 'WISOP',\n",
    "'ADVT_ISOP', 'ADVS_ISOP', 'VNT_ISOP', 'VNS_ISOP', 'USUBM', 'VSUBM', 'WSUBM', 'HLS_SUBM', 'ADVT_SUBM', 'ADVS_SUBM',\n",
    "'VNT_SUBM', 'VNS_SUBM', 'HDIFT', 'HDIFS', 'WVEL', 'WVEL2', 'UET', 'VNT', 'WTT', 'UES',\n",
    "'VNS', 'WTS', 'ADVT', 'ADVS', 'PV', 'Q', 'PD', 'QSW_HTP', 'QFLUX', 'HMXL',\n",
    "'XMXL', 'TMXL', 'HBLT', 'XBLT', 'TBLT', 'BSF', 'MOC', 'N_HEAT', 'N_SALT']\n",
    "\n",
    "vn_list2 = []\n",
    "for k, v in case.vars_info.items():\n",
    "    vn, comp = k\n",
    "    vn_list2.append(vn)\n",
    "\n",
    "for vn in vn_list:\n",
    "    if vn not in vn_list2:\n",
    "        print(vn)"
   ]
  },
  {
   "cell_type": "code",
   "execution_count": 4,
   "metadata": {},
   "outputs": [
    {
     "name": "stdout",
     "output_type": "stream",
     "text": [
      "\u001b[36m\u001b[1m>>> Generating climo for 123 variables:\u001b[0m\n",
      "['ADVS', 'ADVS_ISOP', 'ADVS_SUBM', 'ADVT', 'ADVT_ISOP', 'ADVT_SUBM', 'BSF', 'DIA_DEPTH', 'EVAP_16O_F', 'EVAP_18O_F']\n",
      "['EVAP_F', 'EVAP_HDO_F', 'FW', 'FvICE_R18O', 'FvICE_RHDO', 'FvPER_R18O', 'FvPER_RHDO', 'HBLT', 'HDIFS', 'HDIFT']\n",
      "['HLS_SUBM', 'HMXL', 'HOR_DIFF', 'IAGE', 'IFRAC', 'INT_DEPTH', 'IOFF_16O_F', 'IOFF_18O_F', 'IOFF_F', 'IOFF_HDO_F']\n",
      "['KAPPA_ISOP', 'KAPPA_THIC', 'KVMIX', 'KVMIX_M', 'LWDN_F', 'LWUP_F', 'MELTH_F', 'MELT_16O_F', 'MELT_18O_F', 'MELT_F']\n",
      "['MELT_HDO_F', 'MOC', 'ND143', 'ND144', 'N_HEAT', 'N_SALT', 'PD', 'PREC_16O_F', 'PREC_18O_F', 'PREC_F']\n",
      "['PREC_HDO_F', 'PV', 'Q', 'QFLUX', 'QSW_HBL', 'QSW_HTP', 'RESID_S', 'RESID_T', 'RHDO', 'RHO']\n",
      "['RHO_VINT', 'ROFF_16O_F', 'ROFF_18O_F', 'ROFF_F', 'ROFF_HDO_F', 'SALT_F', 'SENH_F', 'SFWF', 'SFWF_WRST', 'SHF']\n",
      "['SHF_QSW', 'SNOW_F', 'SSH', 'SSH2', 'SSR18O', 'SSS', 'SU', 'SV', 'TAUX', 'TAUX2']\n",
      "['TAUY', 'TAUY2', 'TBLT', 'TFW_S', 'TFW_T', 'TLT', 'TMXL', 'TPOWER', 'UES', 'UET']\n",
      "['UISOP', 'USUBM', 'UVEL', 'UVEL2', 'VDC_S', 'VDC_T', 'VISOP', 'VNS', 'VNS_ISOP', 'VNS_SUBM']\n",
      "['VNT', 'VNT_ISOP', 'VNT_SUBM', 'VSUBM', 'VVC', 'VVEL', 'VVEL2', 'WISOP', 'WSUBM', 'WTS']\n",
      "['WTT', 'WVEL', 'WVEL2', 'XBLT', 'XMXL', 'dTEMP_NEG_2D', 'dTEMP_POS_2D', 'BWS_z49', 'BWT_z49', 'R18O']\n",
      "['SALT', 'SST', 'TEMP']\n",
      "\u001b[90m\u001b[1m>>> nproc: 16\u001b[0m\n"
     ]
    },
    {
     "name": "stderr",
     "output_type": "stream",
     "text": [
      "Generating climo files:  26%|██▌       | 32/123 [00:01<00:05, 16.53it/s]Process ForkPoolWorker-8:\n",
      "Process ForkPoolWorker-9:\n",
      "Process ForkPoolWorker-10:\n",
      "Process ForkPoolWorker-2:\n",
      "Process ForkPoolWorker-5:\n",
      "Process ForkPoolWorker-7:\n",
      "Process ForkPoolWorker-4:\n",
      "Process ForkPoolWorker-3:\n",
      "Process ForkPoolWorker-6:\n",
      "Process ForkPoolWorker-16:\n",
      "Process ForkPoolWorker-1:\n",
      "Process ForkPoolWorker-12:\n",
      "Process ForkPoolWorker-13:\n",
      "Generating climo files:  28%|██▊       | 35/123 [00:02<00:07, 11.74it/s]\n"
     ]
    },
    {
     "ename": "KeyboardInterrupt",
     "evalue": "",
     "output_type": "error",
     "traceback": [
      "\u001b[0;31m---------------------------------------------------------------------------\u001b[0m",
      "\u001b[0;31mKeyboardInterrupt\u001b[0m                         Traceback (most recent call last)",
      "File \u001b[0;32m<timed exec>:2\u001b[0m\n",
      "File \u001b[0;32m~/Github/x4c/x4c/case.py:537\u001b[0m, in \u001b[0;36mTimeseries.gen_climo\u001b[0;34m(self, output_dirpath, comp, timespan, vns, adjust_month, nproc, slicing, regrid, dlat, dlon, overwrite, chunk_nt)\u001b[0m\n\u001b[1;32m    535\u001b[0m     \u001b[38;5;28;01mwith\u001b[39;00m mp\u001b[38;5;241m.\u001b[39mPool(processes\u001b[38;5;241m=\u001b[39mnproc) \u001b[38;5;28;01mas\u001b[39;00m p:\n\u001b[1;32m    536\u001b[0m         arg_list \u001b[38;5;241m=\u001b[39m [(output_dirpath, v, comp, timespan, adjust_month, slicing, regrid, dlat, dlon, overwrite, chunk_nt) \u001b[38;5;28;01mfor\u001b[39;00m v \u001b[38;5;129;01min\u001b[39;00m vns]\n\u001b[0;32m--> 537\u001b[0m         \u001b[43mp\u001b[49m\u001b[38;5;241;43m.\u001b[39;49m\u001b[43mstarmap\u001b[49m\u001b[43m(\u001b[49m\u001b[38;5;28;43mself\u001b[39;49m\u001b[38;5;241;43m.\u001b[39;49m\u001b[43msave_climo\u001b[49m\u001b[43m,\u001b[49m\u001b[43m \u001b[49m\u001b[43mtqdm\u001b[49m\u001b[43m(\u001b[49m\u001b[43marg_list\u001b[49m\u001b[43m,\u001b[49m\u001b[43m \u001b[49m\u001b[43mtotal\u001b[49m\u001b[38;5;241;43m=\u001b[39;49m\u001b[38;5;28;43mlen\u001b[39;49m\u001b[43m(\u001b[49m\u001b[43mvns\u001b[49m\u001b[43m)\u001b[49m\u001b[43m,\u001b[49m\u001b[43m \u001b[49m\u001b[43mdesc\u001b[49m\u001b[38;5;241;43m=\u001b[39;49m\u001b[38;5;124;43mf\u001b[39;49m\u001b[38;5;124;43m'\u001b[39;49m\u001b[38;5;124;43mGenerating climo files\u001b[39;49m\u001b[38;5;124;43m'\u001b[39;49m\u001b[43m)\u001b[49m\u001b[43m)\u001b[49m\n\u001b[1;32m    539\u001b[0m utils\u001b[38;5;241m.\u001b[39mp_success(\u001b[38;5;124mf\u001b[39m\u001b[38;5;124m'\u001b[39m\u001b[38;5;124m>>> \u001b[39m\u001b[38;5;132;01m{\u001b[39;00m\u001b[38;5;28mlen\u001b[39m(vns)\u001b[38;5;132;01m}\u001b[39;00m\u001b[38;5;124m climo files created in: \u001b[39m\u001b[38;5;132;01m{\u001b[39;00moutput_dirpath\u001b[38;5;132;01m}\u001b[39;00m\u001b[38;5;124m'\u001b[39m)\n",
      "File \u001b[0;32m/glade/work/fengzhu/conda-envs/xpp-env/lib/python3.11/multiprocessing/pool.py:375\u001b[0m, in \u001b[0;36mPool.starmap\u001b[0;34m(self, func, iterable, chunksize)\u001b[0m\n\u001b[1;32m    369\u001b[0m \u001b[38;5;28;01mdef\u001b[39;00m \u001b[38;5;21mstarmap\u001b[39m(\u001b[38;5;28mself\u001b[39m, func, iterable, chunksize\u001b[38;5;241m=\u001b[39m\u001b[38;5;28;01mNone\u001b[39;00m):\n\u001b[1;32m    370\u001b[0m \u001b[38;5;250m    \u001b[39m\u001b[38;5;124;03m'''\u001b[39;00m\n\u001b[1;32m    371\u001b[0m \u001b[38;5;124;03m    Like `map()` method but the elements of the `iterable` are expected to\u001b[39;00m\n\u001b[1;32m    372\u001b[0m \u001b[38;5;124;03m    be iterables as well and will be unpacked as arguments. Hence\u001b[39;00m\n\u001b[1;32m    373\u001b[0m \u001b[38;5;124;03m    `func` and (a, b) becomes func(a, b).\u001b[39;00m\n\u001b[1;32m    374\u001b[0m \u001b[38;5;124;03m    '''\u001b[39;00m\n\u001b[0;32m--> 375\u001b[0m     \u001b[38;5;28;01mreturn\u001b[39;00m \u001b[38;5;28;43mself\u001b[39;49m\u001b[38;5;241;43m.\u001b[39;49m\u001b[43m_map_async\u001b[49m\u001b[43m(\u001b[49m\u001b[43mfunc\u001b[49m\u001b[43m,\u001b[49m\u001b[43m \u001b[49m\u001b[43miterable\u001b[49m\u001b[43m,\u001b[49m\u001b[43m \u001b[49m\u001b[43mstarmapstar\u001b[49m\u001b[43m,\u001b[49m\u001b[43m \u001b[49m\u001b[43mchunksize\u001b[49m\u001b[43m)\u001b[49m\u001b[38;5;241;43m.\u001b[39;49m\u001b[43mget\u001b[49m\u001b[43m(\u001b[49m\u001b[43m)\u001b[49m\n",
      "File \u001b[0;32m/glade/work/fengzhu/conda-envs/xpp-env/lib/python3.11/multiprocessing/pool.py:768\u001b[0m, in \u001b[0;36mApplyResult.get\u001b[0;34m(self, timeout)\u001b[0m\n\u001b[1;32m    767\u001b[0m \u001b[38;5;28;01mdef\u001b[39;00m \u001b[38;5;21mget\u001b[39m(\u001b[38;5;28mself\u001b[39m, timeout\u001b[38;5;241m=\u001b[39m\u001b[38;5;28;01mNone\u001b[39;00m):\n\u001b[0;32m--> 768\u001b[0m     \u001b[38;5;28;43mself\u001b[39;49m\u001b[38;5;241;43m.\u001b[39;49m\u001b[43mwait\u001b[49m\u001b[43m(\u001b[49m\u001b[43mtimeout\u001b[49m\u001b[43m)\u001b[49m\n\u001b[1;32m    769\u001b[0m     \u001b[38;5;28;01mif\u001b[39;00m \u001b[38;5;129;01mnot\u001b[39;00m \u001b[38;5;28mself\u001b[39m\u001b[38;5;241m.\u001b[39mready():\n\u001b[1;32m    770\u001b[0m         \u001b[38;5;28;01mraise\u001b[39;00m \u001b[38;5;167;01mTimeoutError\u001b[39;00m\n",
      "File \u001b[0;32m/glade/work/fengzhu/conda-envs/xpp-env/lib/python3.11/multiprocessing/pool.py:765\u001b[0m, in \u001b[0;36mApplyResult.wait\u001b[0;34m(self, timeout)\u001b[0m\n\u001b[1;32m    764\u001b[0m \u001b[38;5;28;01mdef\u001b[39;00m \u001b[38;5;21mwait\u001b[39m(\u001b[38;5;28mself\u001b[39m, timeout\u001b[38;5;241m=\u001b[39m\u001b[38;5;28;01mNone\u001b[39;00m):\n\u001b[0;32m--> 765\u001b[0m     \u001b[38;5;28;43mself\u001b[39;49m\u001b[38;5;241;43m.\u001b[39;49m\u001b[43m_event\u001b[49m\u001b[38;5;241;43m.\u001b[39;49m\u001b[43mwait\u001b[49m\u001b[43m(\u001b[49m\u001b[43mtimeout\u001b[49m\u001b[43m)\u001b[49m\n",
      "File \u001b[0;32m/glade/work/fengzhu/conda-envs/xpp-env/lib/python3.11/threading.py:629\u001b[0m, in \u001b[0;36mEvent.wait\u001b[0;34m(self, timeout)\u001b[0m\n\u001b[1;32m    627\u001b[0m signaled \u001b[38;5;241m=\u001b[39m \u001b[38;5;28mself\u001b[39m\u001b[38;5;241m.\u001b[39m_flag\n\u001b[1;32m    628\u001b[0m \u001b[38;5;28;01mif\u001b[39;00m \u001b[38;5;129;01mnot\u001b[39;00m signaled:\n\u001b[0;32m--> 629\u001b[0m     signaled \u001b[38;5;241m=\u001b[39m \u001b[38;5;28;43mself\u001b[39;49m\u001b[38;5;241;43m.\u001b[39;49m\u001b[43m_cond\u001b[49m\u001b[38;5;241;43m.\u001b[39;49m\u001b[43mwait\u001b[49m\u001b[43m(\u001b[49m\u001b[43mtimeout\u001b[49m\u001b[43m)\u001b[49m\n\u001b[1;32m    630\u001b[0m \u001b[38;5;28;01mreturn\u001b[39;00m signaled\n",
      "File \u001b[0;32m/glade/work/fengzhu/conda-envs/xpp-env/lib/python3.11/threading.py:327\u001b[0m, in \u001b[0;36mCondition.wait\u001b[0;34m(self, timeout)\u001b[0m\n\u001b[1;32m    325\u001b[0m \u001b[38;5;28;01mtry\u001b[39;00m:    \u001b[38;5;66;03m# restore state no matter what (e.g., KeyboardInterrupt)\u001b[39;00m\n\u001b[1;32m    326\u001b[0m     \u001b[38;5;28;01mif\u001b[39;00m timeout \u001b[38;5;129;01mis\u001b[39;00m \u001b[38;5;28;01mNone\u001b[39;00m:\n\u001b[0;32m--> 327\u001b[0m         \u001b[43mwaiter\u001b[49m\u001b[38;5;241;43m.\u001b[39;49m\u001b[43macquire\u001b[49m\u001b[43m(\u001b[49m\u001b[43m)\u001b[49m\n\u001b[1;32m    328\u001b[0m         gotit \u001b[38;5;241m=\u001b[39m \u001b[38;5;28;01mTrue\u001b[39;00m\n\u001b[1;32m    329\u001b[0m     \u001b[38;5;28;01melse\u001b[39;00m:\n",
      "\u001b[0;31mKeyboardInterrupt\u001b[0m: "
     ]
    }
   ],
   "source": [
    "%%time\n",
    "case.casename = 'b.e13.B1850C5.ne16_g16.icesm131_d18O_fixer.Miocene.3xCO2.005'\n",
    "case.gen_climo(\n",
    "    output_dirpath=f'/glade/derecho/scratch/fengzhu/ADF/{case.casename}/climo',\n",
    "    timespan=(6901, 7000),\n",
    "    # vns=['TS', 'U', 'V'],\n",
    "    comp='ocn',\n",
    "    nproc=16,\n",
    "    overwrite=True,\n",
    "    regrid=True,\n",
    ")"
   ]
  },
  {
   "cell_type": "code",
   "execution_count": 4,
   "metadata": {},
   "outputs": [
    {
     "name": "stdout",
     "output_type": "stream",
     "text": [
      "\u001b[36m\u001b[1m>>> Generating climo for 184 variables:\u001b[0m\n",
      "['ADRAIN', 'ADSNOW', 'AEROD_v', 'ANRAIN', 'ANSNOW', 'AODDUST1', 'AODDUST3', 'AODVIS', 'AQRAIN', 'AQSNOW']\n",
      "['AREI', 'AREL', 'AWNC', 'AWNI', 'BURDEN1', 'BURDEN2', 'BURDEN3', 'BURDENBC', 'BURDENDUST', 'BURDENPOM']\n",
      "['BURDENSEASALT', 'BURDENSO4', 'BURDENSOA', 'CCN3', 'CDNUMC', 'CLDHGH', 'CLDICE', 'CLDLIQ', 'CLDLOW', 'CLDMED']\n",
      "['CLDTOT', 'CLOUD', 'DCQ', 'DMS_SRF', 'DTCOND', 'DTV', 'DTWR_H2O2', 'DTWR_H2SO4', 'DTWR_SO2', 'FICE']\n",
      "['FLDS', 'FLNS', 'FLNSC', 'FLNT', 'FLNTC', 'FLUT', 'FLUTC', 'FREQI', 'FREQL', 'FREQR']\n",
      "['FREQS', 'FSDS', 'FSDSC', 'FSNS', 'FSNSC', 'FSNT', 'FSNTC', 'FSNTOA', 'FSNTOAC', 'FSUTOA']\n",
      "['H216OI', 'H216OL', 'H216OR', 'H216OS', 'H216OV', 'H216Or', 'H216Os', 'H218OI', 'H218OL', 'H218OR']\n",
      "['H218OS', 'H218OV', 'H218Or', 'H218Os', 'H2O2_SRF', 'H2OI', 'H2OL', 'H2OR', 'H2OS', 'H2OV']\n",
      "['H2Or', 'H2Os', 'H2SO4_SRF', 'HDOI', 'HDOL', 'HDOR', 'HDOS', 'HDOV', 'HDOr', 'HDOs']\n",
      "['ICEFRAC', 'ICIMR', 'ICWMR', 'IVT', 'IWC', 'LANDFRAC', 'LHFLX', 'LWCF', 'NUMICE', 'NUMLIQ']\n",
      "['OCNFRAC', 'OMEGA', 'OMEGAT', 'PBLH', 'PHIS', 'PRECC', 'PRECL', 'PRECRC_H216Or', 'PRECRC_H218Or', 'PRECRC_H2Or']\n",
      "['PRECRC_HDOr', 'PRECRL_H216OR', 'PRECRL_H218OR', 'PRECRL_H2OR', 'PRECRL_HDOR', 'PRECSC', 'PRECSC_H216Os', 'PRECSC_H218Os', 'PRECSC_H2Os', 'PRECSC_HDOs']\n",
      "['PRECSL', 'PRECSL_H216OS', 'PRECSL_H218OS', 'PRECSL_H2OS', 'PRECSL_HDOS', 'PS', 'PSL', 'Q', 'QFLX', 'QRAINC']\n",
      "['QRAINS', 'QREFHT', 'QRL', 'QRS', 'QSNOWC', 'QSNOWS', 'RELHUM', 'SHFLX', 'SNOWHICE', 'SNOWHLND']\n",
      "['SO2_SRF', 'SOAG_SRF', 'SOLIN', 'SWCF', 'T', 'TAUGWX', 'TAUGWY', 'TAUX', 'TAUY', 'TGCLDCWP']\n",
      "['TGCLDIWP', 'TGCLDLWP', 'TMQ', 'TREFHT', 'TS', 'TSMN', 'TSMX', 'U', 'U10', 'UU']\n",
      "['V', 'VD01', 'VQ', 'VT', 'VU', 'VV', 'WGUSTD', 'WSUB', 'Z3', 'bc_a1_SRF']\n",
      "['dst_a1_SRF', 'dst_a3_SRF', 'ncl_a1_SRF', 'ncl_a2_SRF', 'ncl_a3_SRF', 'num_a1_SRF', 'num_a2_SRF', 'num_a3_SRF', 'pom_a1_SRF', 'so4_a1_SRF']\n",
      "['so4_a2_SRF', 'so4_a3_SRF', 'soa_a1_SRF', 'soa_a2_SRF']\n",
      "\u001b[90m\u001b[1m>>> nproc: 16\u001b[0m\n"
     ]
    },
    {
     "name": "stderr",
     "output_type": "stream",
     "text": [
      "Generating climo files: 100%|██████████| 184/184 [01:09<00:00,  2.65it/s]\n"
     ]
    },
    {
     "name": "stdout",
     "output_type": "stream",
     "text": [
      "\u001b[32m\u001b[1m>>> 184 climo files created in: /glade/derecho/scratch/fengzhu/ADF/b.e13.B1850C5.ne16_g16.icesm131_d18O_fixer.Miocene.3xCO2.005/climo\u001b[0m\n",
      "CPU times: user 2.99 s, sys: 669 ms, total: 3.66 s\n",
      "Wall time: 1min 32s\n"
     ]
    }
   ],
   "source": [
    "%%time\n",
    "case.casename = 'b.e13.B1850C5.ne16_g16.icesm131_d18O_fixer.Miocene.3xCO2.005'\n",
    "case.gen_climo(\n",
    "    output_dirpath=f'/glade/derecho/scratch/fengzhu/ADF/{case.casename}/climo',\n",
    "    timespan=(6901, 7000),\n",
    "    # vns=['TS', 'U', 'V'],\n",
    "    comp='atm',\n",
    "    nproc=16,\n",
    "    overwrite=True,\n",
    "    regrid=True,\n",
    ")"
   ]
  },
  {
   "cell_type": "code",
   "execution_count": null,
   "metadata": {},
   "outputs": [],
   "source": [
    "%%time\n",
    "case.casename = 'b.e13.B1850C5.ne16_g16.icesm131_d18O_fixer.Miocene.3xCO2.005'\n",
    "case.gen_climo(\n",
    "    output_dirpath=f'/glade/derecho/scratch/fengzhu/ADF/{case.casename}/climo',\n",
    "    timespan=(6901, 7000),\n",
    "    vns=['TS', 'U', 'V'],\n",
    "    comp='atm',\n",
    "    nproc=3,\n",
    "    overwrite=True,\n",
    ")"
   ]
  },
  {
   "cell_type": "code",
   "execution_count": null,
   "metadata": {},
   "outputs": [],
   "source": [
    "%%time\n",
    "case.casename = 'b.e13.B1850C5.ne16_g16.icesm131_d18O_fixer.Miocene.3xCO2.005'\n",
    "case.gen_climo(\n",
    "    output_dirpath=f'/glade/derecho/scratch/fengzhu/ADF/{case.casename}/climo',\n",
    "    timespan=(6501, 7000),\n",
    "    vns=['TS', 'U', 'V'],\n",
    "    comp='atm',\n",
    "    nproc=1,\n",
    "    overwrite=True,\n",
    ")"
   ]
  },
  {
   "cell_type": "code",
   "execution_count": null,
   "metadata": {},
   "outputs": [],
   "source": [
    "%%time\n",
    "case.casename = 'b.e13.B1850C5.ne16_g16.icesm131_d18O_fixer.Miocene.3xCO2.005'\n",
    "case.gen_climo(\n",
    "    output_dirpath=f'/glade/derecho/scratch/fengzhu/ADF/{case.casename}/climo',\n",
    "    timespan=(6501, 7000),\n",
    "    vns=['TS', 'U', 'V'],\n",
    "    comp='atm',\n",
    "    nproc=3,\n",
    "    overwrite=True,\n",
    ")"
   ]
  },
  {
   "cell_type": "code",
   "execution_count": null,
   "metadata": {},
   "outputs": [],
   "source": [
    "%%time\n",
    "case.casename = 'b.e13.B1850C5.ne16_g16.icesm131_d18O_fixer.Miocene.3xCO2.005'\n",
    "case.gen_climo(\n",
    "    output_dirpath=f'/glade/derecho/scratch/fengzhu/ADF/{case.casename}/climo',\n",
    "    timespan=(6901, 7000),\n",
    "    comp='atm',\n",
    "    nproc=16,\n",
    ")"
   ]
  },
  {
   "cell_type": "markdown",
   "metadata": {},
   "source": [
    "## SE1"
   ]
  },
  {
   "cell_type": "code",
   "execution_count": 4,
   "metadata": {},
   "outputs": [
    {
     "name": "stdout",
     "output_type": "stream",
     "text": [
      "\u001b[36m\u001b[1m>>> case.root_dir: /glade/campaign/cgd/ppc/jiangzhu/iCESM1.3_hires/b.e13.B1850C5.ne30_g16.icesm13_ihesp.PI.002\u001b[0m\n",
      "\u001b[36m\u001b[1m>>> case.path_pattern: comp/proc/tseries/month_1/casename.mdl.h_str.vn.timespan.nc\u001b[0m\n",
      "\u001b[36m\u001b[1m>>> case.grid_dict: {'atm': 'ne30', 'ocn': 'g16', 'lnd': 'ne30', 'rof': 'ne30', 'ice': 'g16'}\u001b[0m\n",
      "\u001b[32m\u001b[1m>>> case.vars_info created\u001b[0m\n"
     ]
    }
   ],
   "source": [
    "dirpath = '/glade/campaign/cgd/ppc/jiangzhu/iCESM1.3_hires/b.e13.B1850C5.ne30_g16.icesm13_ihesp.PI.002'\n",
    "case = x4c.Timeseries(dirpath, grid_dict={'atm': 'ne30'})"
   ]
  },
  {
   "cell_type": "code",
   "execution_count": null,
   "metadata": {},
   "outputs": [],
   "source": [
    "%%time\n",
    "case.casename = 'b.e13.B1850C5.ne30_g16.icesm13_ihesp.PI.002'\n",
    "case.gen_climo(\n",
    "    output_dirpath=f'/glade/derecho/scratch/fengzhu/ADF/{case.casename}/climo',\n",
    "    timespan=(1, 500),\n",
    "    vns=['TS', 'U', 'V'],\n",
    "    comp='atm',\n",
    "    nproc=1,\n",
    "    overwrite=True,\n",
    ")"
   ]
  },
  {
   "cell_type": "code",
   "execution_count": null,
   "metadata": {},
   "outputs": [],
   "source": [
    "%%time\n",
    "casename = 'b.e13.B1850C5.ne30_g16.icesm13_ihesp.PI.002'\n",
    "case.gen_climo(\n",
    "    output_dirpath=f'/glade/derecho/scratch/fengzhu/ADF/{casename}/climo',\n",
    "    casename=casename,\n",
    "    timespan=(1, 500),\n",
    "    vns=['TS', 'U', 'V'],\n",
    "    comp='atm',\n",
    "    nproc=3,\n",
    "    overwrite=True,\n",
    ")"
   ]
  },
  {
   "cell_type": "code",
   "execution_count": null,
   "metadata": {},
   "outputs": [],
   "source": [
    "%%time\n",
    "case.casename = 'b.e13.B1850C5.ne30_g16.icesm13_ihesp.PI.002'\n",
    "case.gen_climo(\n",
    "    output_dirpath=f'/glade/derecho/scratch/fengzhu/ADF/{case.casename}/climo',\n",
    "    timespan=(1, 500),\n",
    "    comp='atm',\n",
    "    nproc=16,\n",
    "    overwrite=True,\n",
    ")"
   ]
  },
  {
   "cell_type": "markdown",
   "metadata": {},
   "source": [
    "## FV2"
   ]
  },
  {
   "cell_type": "code",
   "execution_count": null,
   "metadata": {},
   "outputs": [],
   "source": [
    "dirpath = '/glade/campaign/cgd/ppc/jiangzhu/iCESM1.3/b.e13.Bi1850C5.f19_g16.05'\n",
    "case = x4c.Timeseries(dirpath, grid_dict={'atm': 'f19'})"
   ]
  },
  {
   "cell_type": "code",
   "execution_count": null,
   "metadata": {},
   "outputs": [],
   "source": [
    "%%time\n",
    "case.casename = 'b.e13.Bi1850C5.f19_g16.05'\n",
    "case.gen_climo(\n",
    "    output_dirpath=f'/glade/derecho/scratch/fengzhu/ADF/{case.casename}/climo',\n",
    "    timespan=(1, 50),\n",
    "    slicing=True,\n",
    "    comp='atm',\n",
    "    nproc=16,\n",
    ")"
   ]
  },
  {
   "cell_type": "markdown",
   "metadata": {},
   "source": [
    "## SE0.25"
   ]
  },
  {
   "cell_type": "code",
   "execution_count": 2,
   "metadata": {},
   "outputs": [
    {
     "name": "stdout",
     "output_type": "stream",
     "text": [
      "\u001b[36m\u001b[1m>>> case.root_dir: /glade/campaign/cgd/ppc/jiangzhu/paleoweather/b.e13.B1850C5.ne120_g16.icesm13_ihesp.PI.003\u001b[0m\n",
      "\u001b[36m\u001b[1m>>> case.path_pattern: comp/proc/tseries/month_1/casename.mdl.h_str.vn.timespan.nc\u001b[0m\n",
      "\u001b[36m\u001b[1m>>> case.grid_dict: {'atm': 'ne120', 'ocn': 'g16', 'lnd': 'ne120', 'rof': 'ne120', 'ice': 'g16'}\u001b[0m\n",
      "\u001b[32m\u001b[1m>>> case.vars_info created\u001b[0m\n"
     ]
    }
   ],
   "source": [
    "dirpath = '/glade/campaign/cgd/ppc/jiangzhu/paleoweather/b.e13.B1850C5.ne120_g16.icesm13_ihesp.PI.003'\n",
    "case = x4c.Timeseries(dirpath, grid_dict={'atm': 'ne120'})"
   ]
  },
  {
   "cell_type": "code",
   "execution_count": 13,
   "metadata": {},
   "outputs": [
    {
     "name": "stdout",
     "output_type": "stream",
     "text": [
      "\u001b[36m\u001b[1m>>> Generating climo for 193 variables:\u001b[0m\n",
      "['ADRAIN', 'ADSNOW', 'AEROD_v', 'ANRAIN', 'ANSNOW', 'AODDUST1', 'AODDUST3', 'AODVIS', 'AQRAIN', 'AQSNOW']\n",
      "['AREI', 'AREL', 'AWNC', 'AWNI', 'BURDEN1', 'BURDEN2', 'BURDEN3', 'BURDENBC', 'BURDENDUST', 'BURDENPOM']\n",
      "['BURDENSEASALT', 'BURDENSO4', 'BURDENSOA', 'CCN3', 'CDNUMC', 'CLDHGH', 'CLDICE', 'CLDLIQ', 'CLDLOW', 'CLDMED']\n",
      "['CLDTOT', 'CLOUD', 'CMFMC', 'CMFMCDZM', 'DCQ', 'DMS_SRF', 'DTCOND', 'DTV', 'DTWR_H2O2', 'DTWR_H2SO4']\n",
      "['DTWR_SO2', 'EMISCLD', 'FICE', 'FLDS', 'FLDSC', 'FLNS', 'FLNSC', 'FLNT', 'FLNTC', 'FLUT']\n",
      "['FLUTC', 'FREQI', 'FREQL', 'FREQR', 'FREQS', 'FREQZM', 'FSDS', 'FSDSC', 'FSNS', 'FSNSC']\n",
      "['FSNT', 'FSNTC', 'FSNTOA', 'FSNTOAC', 'FSUTOA', 'H216OI', 'H216OL', 'H216OR', 'H216OS', 'H216OV']\n",
      "['H216Or', 'H216Os', 'H218OI', 'H218OL', 'H218OR', 'H218OS', 'H218OV', 'H218Or', 'H218Os', 'H2O2_SRF']\n",
      "['H2OI', 'H2OL', 'H2OR', 'H2OS', 'H2OV', 'H2Or', 'H2Os', 'H2SO4_SRF', 'HDOI', 'HDOL']\n",
      "['HDOR', 'HDOS', 'HDOV', 'HDOr', 'HDOs', 'ICEFRAC', 'ICIMR', 'ICWMR', 'IVT', 'IWC']\n",
      "['LANDFRAC', 'LHFLX', 'LWCF', 'NUMICE', 'NUMLIQ', 'OCNFRAC', 'OMEGA', 'OMEGAT', 'PBLH', 'PCLDBOT']\n",
      "['PCLDTOP', 'PHIS', 'PRECC', 'PRECL', 'PRECRC_H216Or', 'PRECRC_H218Or', 'PRECRC_H2Or', 'PRECRC_HDOr', 'PRECRL_H216OR', 'PRECRL_H218OR']\n",
      "['PRECRL_H2OR', 'PRECRL_HDOR', 'PRECSC', 'PRECSC_H216Os', 'PRECSC_H218Os', 'PRECSC_H2Os', 'PRECSC_HDOs', 'PRECSL', 'PRECSL_H216OS', 'PRECSL_H218OS']\n",
      "['PRECSL_H2OS', 'PRECSL_HDOS', 'PS', 'PSL', 'Q', 'QFLX', 'QRAINC', 'QRAINS', 'QREFHT', 'QRL']\n",
      "['QRS', 'QSNOWC', 'QSNOWS', 'RELHUM', 'SHFLX', 'SNOWHICE', 'SNOWHLND', 'SO2_SRF', 'SOAG_SRF', 'SOLIN']\n",
      "['SWCF', 'T', 'TAUGWX', 'TAUGWY', 'TAUX', 'TAUY', 'TGCLDCWP', 'TGCLDIWP', 'TGCLDLWP', 'TMQ']\n",
      "['TREFHT', 'TREFHTMN', 'TREFHTMX', 'TS', 'TSMN', 'TSMX', 'U', 'U10', 'UU', 'V']\n",
      "['VD01', 'VQ', 'VT', 'VU', 'VV', 'WGUSTD', 'WSUB', 'Z3', 'bc_a1_SRF', 'dst_a1_SRF']\n",
      "['dst_a3_SRF', 'ncl_a1_SRF', 'ncl_a2_SRF', 'ncl_a3_SRF', 'num_a1_SRF', 'num_a2_SRF', 'num_a3_SRF', 'pom_a1_SRF', 'so4_a1_SRF', 'so4_a2_SRF']\n",
      "['so4_a3_SRF', 'soa_a1_SRF', 'soa_a2_SRF']\n",
      "\u001b[90m\u001b[1m>>> nproc: 16\u001b[0m\n"
     ]
    },
    {
     "name": "stderr",
     "output_type": "stream",
     "text": [
      "Generating climo files: 100%|██████████| 193/193 [10:38<00:00,  3.31s/it]\n"
     ]
    },
    {
     "name": "stdout",
     "output_type": "stream",
     "text": [
      "\u001b[32m\u001b[1m>>> 193 climo files created in: /glade/derecho/scratch/fengzhu/ADF/b.e13.B1850C5.ne120_g16.icesm13_ihesp.PI.003/climo\u001b[0m\n",
      "CPU times: user 166 ms, sys: 242 ms, total: 408 ms\n",
      "Wall time: 20min 39s\n"
     ]
    }
   ],
   "source": [
    "%%time\n",
    "case.casename = 'b.e13.B1850C5.ne120_g16.icesm13_ihesp.PI.003'\n",
    "case.gen_climo(\n",
    "    output_dirpath=f'/glade/derecho/scratch/fengzhu/ADF/{case.casename}/climo',\n",
    "    timespan=(41, 50),\n",
    "    # vns=['TS'],\n",
    "    comp='atm',\n",
    "    nproc=16,\n",
    "    overwrite=True,\n",
    "    regrid=True,\n",
    ")"
   ]
  },
  {
   "cell_type": "code",
   "execution_count": 4,
   "metadata": {},
   "outputs": [
    {
     "name": "stdout",
     "output_type": "stream",
     "text": [
      "\u001b[32m\u001b[1m>>> output directory created at: /glade/derecho/scratch/fengzhu/ADF/b.e13.B1850C5.ne120_g16.icesm13_ihesp.PI.003/climo_30yrs_noChunks\u001b[0m\n",
      "\u001b[36m\u001b[1m>>> Generating climo for 193 variables:\u001b[0m\n",
      "['ADRAIN', 'ADSNOW', 'AEROD_v', 'ANRAIN', 'ANSNOW', 'AODDUST1', 'AODDUST3', 'AODVIS', 'AQRAIN', 'AQSNOW']\n",
      "['AREI', 'AREL', 'AWNC', 'AWNI', 'BURDEN1', 'BURDEN2', 'BURDEN3', 'BURDENBC', 'BURDENDUST', 'BURDENPOM']\n",
      "['BURDENSEASALT', 'BURDENSO4', 'BURDENSOA', 'CCN3', 'CDNUMC', 'CLDHGH', 'CLDICE', 'CLDLIQ', 'CLDLOW', 'CLDMED']\n",
      "['CLDTOT', 'CLOUD', 'CMFMC', 'CMFMCDZM', 'DCQ', 'DMS_SRF', 'DTCOND', 'DTV', 'DTWR_H2O2', 'DTWR_H2SO4']\n",
      "['DTWR_SO2', 'EMISCLD', 'FICE', 'FLDS', 'FLDSC', 'FLNS', 'FLNSC', 'FLNT', 'FLNTC', 'FLUT']\n",
      "['FLUTC', 'FREQI', 'FREQL', 'FREQR', 'FREQS', 'FREQZM', 'FSDS', 'FSDSC', 'FSNS', 'FSNSC']\n",
      "['FSNT', 'FSNTC', 'FSNTOA', 'FSNTOAC', 'FSUTOA', 'H216OI', 'H216OL', 'H216OR', 'H216OS', 'H216OV']\n",
      "['H216Or', 'H216Os', 'H218OI', 'H218OL', 'H218OR', 'H218OS', 'H218OV', 'H218Or', 'H218Os', 'H2O2_SRF']\n",
      "['H2OI', 'H2OL', 'H2OR', 'H2OS', 'H2OV', 'H2Or', 'H2Os', 'H2SO4_SRF', 'HDOI', 'HDOL']\n",
      "['HDOR', 'HDOS', 'HDOV', 'HDOr', 'HDOs', 'ICEFRAC', 'ICIMR', 'ICWMR', 'IVT', 'IWC']\n",
      "['LANDFRAC', 'LHFLX', 'LWCF', 'NUMICE', 'NUMLIQ', 'OCNFRAC', 'OMEGA', 'OMEGAT', 'PBLH', 'PCLDBOT']\n",
      "['PCLDTOP', 'PHIS', 'PRECC', 'PRECL', 'PRECRC_H216Or', 'PRECRC_H218Or', 'PRECRC_H2Or', 'PRECRC_HDOr', 'PRECRL_H216OR', 'PRECRL_H218OR']\n",
      "['PRECRL_H2OR', 'PRECRL_HDOR', 'PRECSC', 'PRECSC_H216Os', 'PRECSC_H218Os', 'PRECSC_H2Os', 'PRECSC_HDOs', 'PRECSL', 'PRECSL_H216OS', 'PRECSL_H218OS']\n",
      "['PRECSL_H2OS', 'PRECSL_HDOS', 'PS', 'PSL', 'Q', 'QFLX', 'QRAINC', 'QRAINS', 'QREFHT', 'QRL']\n",
      "['QRS', 'QSNOWC', 'QSNOWS', 'RELHUM', 'SHFLX', 'SNOWHICE', 'SNOWHLND', 'SO2_SRF', 'SOAG_SRF', 'SOLIN']\n",
      "['SWCF', 'T', 'TAUGWX', 'TAUGWY', 'TAUX', 'TAUY', 'TGCLDCWP', 'TGCLDIWP', 'TGCLDLWP', 'TMQ']\n",
      "['TREFHT', 'TREFHTMN', 'TREFHTMX', 'TS', 'TSMN', 'TSMX', 'U', 'U10', 'UU', 'V']\n",
      "['VD01', 'VQ', 'VT', 'VU', 'VV', 'WGUSTD', 'WSUB', 'Z3', 'bc_a1_SRF', 'dst_a1_SRF']\n",
      "['dst_a3_SRF', 'ncl_a1_SRF', 'ncl_a2_SRF', 'ncl_a3_SRF', 'num_a1_SRF', 'num_a2_SRF', 'num_a3_SRF', 'pom_a1_SRF', 'so4_a1_SRF', 'so4_a2_SRF']\n",
      "['so4_a3_SRF', 'soa_a1_SRF', 'soa_a2_SRF']\n",
      "\u001b[90m\u001b[1m>>> nproc: 16\u001b[0m\n"
     ]
    },
    {
     "name": "stderr",
     "output_type": "stream",
     "text": [
      "Generating climo files:   0%|          | 0/193 [00:00<?, ?it/s]/glade/work/fengzhu/conda-envs/xpp-env/lib/python3.11/site-packages/xesmf/backend.py:56: UserWarning: Latitude is outside of [-90, 90]\n",
      "  warnings.warn('Latitude is outside of [-90, 90]')\n",
      "Generating climo files:  48%|████▊     | 92/193 [08:58<27:15, 16.19s/it]/glade/work/fengzhu/conda-envs/xpp-env/lib/python3.11/site-packages/xesmf/backend.py:56: UserWarning: Latitude is outside of [-90, 90]\n",
      "  warnings.warn('Latitude is outside of [-90, 90]')\n",
      "Generating climo files:  50%|████▉     | 96/193 [09:58<25:46, 15.94s/it]/glade/work/fengzhu/conda-envs/xpp-env/lib/python3.11/site-packages/xesmf/backend.py:56: UserWarning: Latitude is outside of [-90, 90]\n",
      "  warnings.warn('Latitude is outside of [-90, 90]')\n",
      "Generating climo files: 100%|██████████| 193/193 [26:26<00:00,  8.22s/it]\n"
     ]
    },
    {
     "name": "stdout",
     "output_type": "stream",
     "text": [
      "\u001b[32m\u001b[1m>>> 193 climo files created in: /glade/derecho/scratch/fengzhu/ADF/b.e13.B1850C5.ne120_g16.icesm13_ihesp.PI.003/climo_30yrs_noChunks\u001b[0m\n",
      "CPU times: user 255 ms, sys: 257 ms, total: 513 ms\n",
      "Wall time: 43min 51s\n"
     ]
    }
   ],
   "source": [
    "%%time\n",
    "case.casename = 'b.e13.B1850C5.ne120_g16.icesm13_ihesp.PI.003'\n",
    "case.gen_climo(\n",
    "    output_dirpath=f'/glade/derecho/scratch/fengzhu/ADF/{case.casename}/climo_30yrs_noChunks',\n",
    "    timespan=(21, 50),\n",
    "    comp='atm',\n",
    "    nproc=16,\n",
    "    overwrite=True,\n",
    "    regrid=True,\n",
    ")"
   ]
  },
  {
   "cell_type": "code",
   "execution_count": null,
   "metadata": {},
   "outputs": [],
   "source": []
  }
 ],
 "metadata": {
  "kernelspec": {
   "display_name": "Python [conda env:xpp-env]",
   "language": "python",
   "name": "conda-env-xpp-env-py"
  },
  "language_info": {
   "codemirror_mode": {
    "name": "ipython",
    "version": 3
   },
   "file_extension": ".py",
   "mimetype": "text/x-python",
   "name": "python",
   "nbconvert_exporter": "python",
   "pygments_lexer": "ipython3",
   "version": "3.11.8"
  }
 },
 "nbformat": 4,
 "nbformat_minor": 2
}
